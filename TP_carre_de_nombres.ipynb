{
 "cells": [
  {
   "cell_type": "markdown",
   "metadata": {},
   "source": [
    "# Carres De Nombres\n",
    "\n",
    "Étude du sujet des Carres De Nombres sur [wikimaths](https://cours-info.iut-bm.univ-fcomte.fr/pmwiki/pmwiki.php/TP/CarresDeNombres)"
   ]
  },
  {
   "cell_type": "markdown",
   "metadata": {},
   "source": [
    "## Les carrés magique\n",
    "\n",
    "### Réalisation d'une fonction permettant de tester si un carré et un carré magique"
   ]
  },
  {
   "cell_type": "code",
   "execution_count": 1,
   "metadata": {},
   "outputs": [],
   "source": [
    "def isCarreMagique(m):\n",
    "    firstSum = sum(m[0])\n",
    "    # On commence par verifier si la somme de toute les lignes est bien identique,\n",
    "    # Si ce n'est pas le cas, en renvoi faux\n",
    "    for l in m:\n",
    "        if sum(l) != firstSum:\n",
    "            return False\n",
    "    \n",
    "    # Maintenant on verifie si la somme de toutes les colonnes est bien identique\n",
    "    diagsum1 = 0\n",
    "    diagsum2 = 0\n",
    "    for i in range(len(m)):\n",
    "        vsum = 0\n",
    "        for j in range(len(m[0])):\n",
    "            vsum += m[i][j]\n",
    "        if vsum != firstSum:\n",
    "            return False\n",
    "    diagsum1 += m[i][i]\n",
    "    diagsum2 += m[i][-i]\n",
    "\n",
    "    return True\n",
    "    "
   ]
  },
  {
   "cell_type": "markdown",
   "metadata": {},
   "source": [
    "#### Verification de la fonction `isCarreMagique()`"
   ]
  },
  {
   "cell_type": "code",
   "execution_count": 3,
   "metadata": {},
   "outputs": [
    {
     "name": "stdout",
     "output_type": "stream",
     "text": [
      "False\n",
      "True\n"
     ]
    }
   ],
   "source": [
    "print(isCarreMagique([[8, 1, 6], [3, 5, 8], [4, 9, 2]])) # Ce n'est pas un carrée magique\n",
    "print(isCarreMagique([[8, 1, 6], [3, 5, 7], [4, 9, 2]])) # C'est un carrée magique"
   ]
  },
  {
   "cell_type": "markdown",
   "metadata": {},
   "source": [
    "### Algorithme de génération des carrés magique "
   ]
  },
  {
   "cell_type": "code",
   "execution_count": 4,
   "metadata": {},
   "outputs": [
    {
     "data": {
      "text/plain": [
       "True"
      ]
     },
     "execution_count": 4,
     "metadata": {},
     "output_type": "execute_result"
    }
   ],
   "source": [
    "def generateCarreMagique(p):\n",
    "    taille = 2*p+1\n",
    "    M = [[0 for i in range(taille)] for j in range(taille)]\n",
    "    # On commence par initialiser le chiffre au milieu de la première diagonale\n",
    "    currX, currY = 0, p\n",
    "    M[currX][currY] = 1\n",
    "    # Remplissage de la matrice \n",
    "    for i in range(2, taille**2+1):\n",
    "        nextX, nextY = (currX-1)%taille, (currY+1)%taille\n",
    "        if M[nextX][nextY] != 0:\n",
    "            nextX = (currX+1)%taille\n",
    "            nextY = currY\n",
    "        currX, currY = nextX, nextY\n",
    "        M[currX][currY] = i\n",
    "\n",
    "    return M\n",
    "\n",
    "a = generateCarreMagique(2)\n",
    "isCarreMagique(a)"
   ]
  },
  {
   "cell_type": "markdown",
   "metadata": {},
   "source": [
    "## Les carrés latins\n"
   ]
  },
  {
   "cell_type": "markdown",
   "metadata": {},
   "source": [
    "## Verification si le carré et un carré latin\n",
    "\n",
    "Pour verifier si un carré est un carré latin, pour chaque lignes et chaque colonnes, on prend un tableau contenant tous les chiffres et on applique la fonction `set()` de python pour ne garder un exemplaire unique de chaque nombre. Si la longueur du set est différente de la ligne original, alors on a deux nombres identique, donc ça n'est pas un carré latin. Ensuite, on regarde si le maximum et le minimum sont compris entre 1 et la taille du carré, si c'est le cas on à bien un carré latin\n"
   ]
  },
  {
   "cell_type": "code",
   "execution_count": 5,
   "metadata": {},
   "outputs": [],
   "source": [
    "def isCarreLatin(m):\n",
    "    taille = len(m)\n",
    "    for l in m:\n",
    "        if len(l) > len(set(l)) or max(l)>taille or min(l) < 1:\n",
    "            return False\n",
    "    for i in range(taille):\n",
    "        col = [m[x][i] for x in range(taille)]\n",
    "        if len(col) > len(set(col)) or max(col)>taille or min(col) < 1:\n",
    "            return False\n",
    "    return True"
   ]
  },
  {
   "cell_type": "code",
   "execution_count": 7,
   "metadata": {},
   "outputs": [
    {
     "name": "stdout",
     "output_type": "stream",
     "text": [
      "True\n",
      "False\n",
      "False\n",
      "False\n",
      "False\n"
     ]
    }
   ],
   "source": [
    "# Tests de la fonction \n",
    "\n",
    "test1 = [\n",
    "    [1, 2, 3, 4], \n",
    "    [2, 3, 4, 1], \n",
    "    [3, 4, 1, 2], \n",
    "    [4, 1, 2, 3]] # True\n",
    "test2 = [\n",
    "    [1, 2, 3, 4], \n",
    "    [2, 3, 4, 5], \n",
    "    [3, 4, 1, 2], \n",
    "    [4, 1, 2, 3]] # False\n",
    "test3 = [\n",
    "    [1, 2, 3, 4], \n",
    "    [2, 3, 4, -1], \n",
    "    [3, 4, 1, 2], \n",
    "    [4, 1, 2, 3]] # False\n",
    "test4 = [\n",
    "    [1, 2, 3, 4], \n",
    "    [2, 3, 4, 4], \n",
    "    [3, 4, 1, 2], \n",
    "    [4, 1, 2, 3]] # False\n",
    "test5 = [\n",
    "    [1, 2, 3, 4], \n",
    "    [2, 3, 4, 0], \n",
    "    [3, 4, 1, 2], \n",
    "    [4, 1, 2, 3]] # False\n",
    "\n",
    "print(isCarreLatin(test1))\n",
    "print(isCarreLatin(test2))\n",
    "print(isCarreLatin(test3))\n",
    "print(isCarreLatin(test4))\n",
    "print(isCarreLatin(test5))"
   ]
  },
  {
   "cell_type": "markdown",
   "metadata": {},
   "source": [
    "## Génération de tous les carrés latin d'ordre 3, 4 et 5"
   ]
  },
  {
   "cell_type": "code",
   "execution_count": 6,
   "metadata": {},
   "outputs": [
    {
     "name": "stdout",
     "output_type": "stream",
     "text": [
      "[((1, 2, 3), (2, 3, 1), (3, 1, 2)), ((1, 2, 3), (3, 1, 2), (2, 3, 1)), ((1, 3, 2), (2, 1, 3), (3, 2, 1)), ((1, 3, 2), (3, 2, 1), (2, 1, 3)), ((2, 1, 3), (1, 3, 2), (3, 2, 1)), ((2, 1, 3), (3, 2, 1), (1, 3, 2)), ((2, 3, 1), (1, 2, 3), (3, 1, 2)), ((2, 3, 1), (3, 1, 2), (1, 2, 3)), ((3, 1, 2), (1, 2, 3), (2, 3, 1)), ((3, 1, 2), (2, 3, 1), (1, 2, 3)), ((3, 2, 1), (1, 3, 2), (2, 1, 3)), ((3, 2, 1), (2, 1, 3), (1, 3, 2))]\n",
      "12\n"
     ]
    }
   ],
   "source": [
    "from itertools import permutations\n",
    "def generateAllCarreLatin(size):\n",
    "    permliste = [x for x in permutations([y for y in range(1, size+1)], size)]\n",
    "    listeCarre = [x for x in permutations(permliste, size)]\n",
    "    lCarreLatin = []\n",
    "    for c in listeCarre:\n",
    "        if isCarreLatin(c):\n",
    "            lCarreLatin.append(c)\n",
    "    return lCarreLatin\n",
    "\n",
    "carreLatin3 = generateAllCarreLatin(3)\n",
    "print(carreLatin3)\n",
    "print(len(carreLatin3))"
   ]
  },
  {
   "cell_type": "markdown",
   "metadata": {},
   "source": [
    "# Sudoku"
   ]
  },
  {
   "cell_type": "code",
   "execution_count": 5,
   "metadata": {},
   "outputs": [],
   "source": [
    "def check_3_3_matrice(m):\n",
    "    test = [i for i in range(1, 10)]\n",
    "    for ligne in m:\n",
    "        for chiffre in ligne:\n",
    "            try:\n",
    "                test.remove(chiffre)\n",
    "            except:\n",
    "                return False\n",
    "    return len(test) == 0"
   ]
  },
  {
   "cell_type": "code",
   "execution_count": 6,
   "metadata": {},
   "outputs": [
    {
     "name": "stdout",
     "output_type": "stream",
     "text": [
      "False\n",
      "True\n",
      "False\n",
      "False\n"
     ]
    }
   ],
   "source": [
    "test1 = [[1, 2, 3], [4, 4, 6], [7, 8, 9]]  # False\n",
    "test2 = [[1, 2, 3], [4, 5, 6], [7, 8, 9]]  # True\n",
    "test3 = [[1, 2, 3], [4, 10, 6], [7, 8, 9]] # False\n",
    "test4 = [[1, 2, 3], [4, 0, 6], [7, 8, 9]]  # False\n",
    "print(check_3_3_matrice(test1))\n",
    "print(check_3_3_matrice(test2))\n",
    "print(check_3_3_matrice(test3))\n",
    "print(check_3_3_matrice(test4))"
   ]
  },
  {
   "cell_type": "code",
   "execution_count": 7,
   "metadata": {},
   "outputs": [],
   "source": [
    "def check_if_matrice_are_compatible(matrice1, matrice2, matrice3):\n",
    "    if not (check_3_3_matrice(matrice1) and check_3_3_matrice(matrice2) and check_3_3_matrice(matrice3)):\n",
    "        return False\n",
    "    # Check ligne:\n",
    "    ok = True\n",
    "    for i in range(3):\n",
    "        if not check_3_3_matrice([matrice1[i], matrice2[i], matrice3[i]]):\n",
    "            ok = False\n",
    "            break\n",
    "    if ok: return True\n",
    "\n",
    "    # check colonnes\n",
    "    for i in range(3):\n",
    "        to_check = [[matrice1[j][i], matrice2[j][i], matrice3[j][i]] for j in range(3)]\n",
    "        if not check_3_3_matrice(to_check):\n",
    "            return False\n",
    "    return True\n"
   ]
  },
  {
   "cell_type": "code",
   "execution_count": 8,
   "metadata": {},
   "outputs": [
    {
     "name": "stdout",
     "output_type": "stream",
     "text": [
      "True\n",
      "True\n",
      "False\n"
     ]
    }
   ],
   "source": [
    "# Test OK Ligne\n",
    "test1 = [\n",
    "    [[7, 6, 1], [9, 4, 3], [8, 5, 2]],\n",
    "    [[5, 8, 3], [2, 7, 6], [4, 1, 9]],\n",
    "    [[4, 9, 2], [8, 5, 1], [3, 6, 7]]\n",
    "]\n",
    "# Test OK colonne\n",
    "test2 = [\n",
    "    [[7, 6, 1], [9, 4, 3], [8, 5, 2]],\n",
    "    [[1, 7, 4], [6, 8, 9], [2, 3, 5]],\n",
    "    [[3, 2, 6], [5, 1, 8], [4, 9, 7]]\n",
    "]\n",
    "\n",
    "test3 = [\n",
    "    [[7, 6, 1], [9, 4, 3], [8, 5, 2]],\n",
    "    [[1, 7, 4], [6, 8, 9], [2, 3, 5]],\n",
    "    [[1, 7, 4], [6, 8, 9], [2, 3, 5]]\n",
    "]\n",
    "\n",
    "print(check_if_matrice_are_compatible(test1[0], test1[1], test1[2]))\n",
    "print(check_if_matrice_are_compatible(test2[0], test2[1], test2[2]))\n",
    "print(check_if_matrice_are_compatible(test3[0], test3[1], test3[2]))"
   ]
  },
  {
   "cell_type": "code",
   "execution_count": 9,
   "metadata": {},
   "outputs": [],
   "source": [
    "def isSudoku(m):\n",
    "    # Pour verifier si c'est un sudoku, il faut verifier que les lignes et les colone de matrice 3x3 soit compatibles.\n",
    "    for i in range(0, len(m), 3):\n",
    "        # Verification des ligne :\n",
    "        if not check_if_matrice_are_compatible([m[j][:3] for j in range(i, i+3)], [m[j][3:6] for j in range(i, i+3)], [m[j][6:] for j in range(i, i+3)]):\n",
    "            return False\n",
    "        # Verification des colonnes\n",
    "        if not check_if_matrice_are_compatible([m[j][i:i+3] for j in range(3)], [m[j][i:i+3] for j in range(3, 6)], [m[j][i:i+3] for j in range(6, 9)]):\n",
    "            return False\n",
    "    return True\n",
    "    "
   ]
  },
  {
   "cell_type": "code",
   "execution_count": 12,
   "metadata": {},
   "outputs": [
    {
     "name": "stdout",
     "output_type": "stream",
     "text": [
      "True\n",
      "False\n"
     ]
    }
   ],
   "source": [
    "test = [\n",
    "        [7, 6, 1, 5, 8, 3, 4, 9, 2],\n",
    "        [9, 4, 3, 2, 7, 6, 8, 5, 1],\n",
    "        [8, 5, 2, 4, 1, 9, 3, 6, 7],\n",
    "        [1, 7, 4, 3, 2, 5, 9, 8, 6],\n",
    "        [6, 8, 9, 1, 4, 7, 2, 3, 5],\n",
    "        [2, 3, 5, 9, 6, 8, 1, 7, 4],\n",
    "        [3, 2, 6, 7, 9, 4, 5, 1, 8],\n",
    "        [5, 1, 8, 6, 3, 2, 7, 4, 9],\n",
    "        [4, 9, 7, 8, 5, 1, 6, 2, 3]\n",
    "    ]\n",
    "# un vrai sudoku\n",
    "\n",
    "test2 = [\n",
    "        [7, 6, 1, 5, 8, 3, 4, 9, 2],\n",
    "        [9, 4, 3, 2, 7, 6, 8, 5, 1],\n",
    "        [8, 5, 2, 4, 1, 9, 3, 6, 7],\n",
    "        [1, 7, 4, 3, 2, 5, 9, 8, 6],\n",
    "        [6, 8, 9, 1, 4, 7, 2, 3, 5],\n",
    "        [2, 3, 5, 9, 6, 8, 1, 7, 4],\n",
    "        [3, 2, 6, 7, 9, 4, 5, 1, 8],\n",
    "        [5, 1, 8, 6, 3, 2, 7, 4, 9],\n",
    "        [3, 9, 7, 8, 5, 1, 6, 2, 4]\n",
    "    ]\n",
    "\n",
    "print(isSudoku(test))\n",
    "print(isSudoku(test2))"
   ]
  }
 ],
 "metadata": {
  "kernelspec": {
   "display_name": "Python 3",
   "language": "python",
   "name": "python3"
  },
  "language_info": {
   "codemirror_mode": {
    "name": "ipython",
    "version": 3
   },
   "file_extension": ".py",
   "mimetype": "text/x-python",
   "name": "python",
   "nbconvert_exporter": "python",
   "pygments_lexer": "ipython3",
   "version": "3.11.2"
  },
  "orig_nbformat": 4
 },
 "nbformat": 4,
 "nbformat_minor": 2
}
